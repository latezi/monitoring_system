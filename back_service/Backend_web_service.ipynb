{
 "cells": [
  {
   "cell_type": "markdown",
   "metadata": {},
   "source": [
    "# Настройки контекста"
   ]
  },
  {
   "cell_type": "code",
   "execution_count": 1,
   "metadata": {
    "ExecuteTime": {
     "end_time": "2022-04-20T14:54:57.327930Z",
     "start_time": "2022-04-20T14:54:56.464899Z"
    },
    "execution": {
     "iopub.execute_input": "2022-12-19T12:33:29.109445Z",
     "iopub.status.busy": "2022-12-19T12:33:29.109195Z",
     "iopub.status.idle": "2022-12-19T12:33:29.807343Z",
     "shell.execute_reply": "2022-12-19T12:33:29.806430Z",
     "shell.execute_reply.started": "2022-12-19T12:33:29.109399Z"
    },
    "tags": []
   },
   "outputs": [],
   "source": [
    "#Импорты тут\n",
    "import os\n",
    "import sys\n",
    "from flask import Flask\n",
    "import pandas as pd\n",
    "import warnings\n",
    "import json"
   ]
  },
  {
   "cell_type": "code",
   "execution_count": 2,
   "metadata": {
    "ExecuteTime": {
     "end_time": "2022-04-20T14:54:57.539434Z",
     "start_time": "2022-04-20T14:54:57.330502Z"
    },
    "execution": {
     "iopub.execute_input": "2022-12-19T12:33:29.808936Z",
     "iopub.status.busy": "2022-12-19T12:33:29.808629Z",
     "iopub.status.idle": "2022-12-19T12:33:30.054702Z",
     "shell.execute_reply": "2022-12-19T12:33:30.053795Z",
     "shell.execute_reply.started": "2022-12-19T12:33:29.808870Z"
    },
    "tags": []
   },
   "outputs": [],
   "source": [
    "spark_home = '/lib/spark2'\n",
    "\n",
    "os.environ['SPARK_HOME'] = spark_home\n",
    "os.environ['PYSPARK_DRIVER_PYTHON'] = '/bin/python'\n",
    "os.environ['PYSPARK_PYTHON'] = '/bin/python'\n",
    "os.environ['LD_LIBRARY_PATH'] = '/jupyter/lib'\n",
    " \n",
    "sys.path.insert(0, os.path.join (spark_home,'python'))\n",
    " \n",
    "sys.path.insert(0, os.path.join (spark_home,'python/lib/py4j-0.10.7-src.zip'))\n",
    "from pyspark import SparkContext, SparkConf, HiveContext\n",
    " \n",
    "conf = SparkConf().setAppName('Web Monitor Data Collector')\\\n",
    "    .setMaster(\"yarn-client\")\\\n",
    "    .set('spark.dynamicAllocation.enabled', 'true')\\\n",
    "    .set('spark.executor.cores', '8')\\\n",
    "    .set('spark.executor.instances', '2')\\\n",
    "    .set('spark.executor.memory','8g')\\\n",
    "    .set('spark.driver.memory','8g')\\\n",
    "    .set('spark.driver.maxResultSize','6g')\\\n",
    "    .set('spark.shuffle.service.enabled','True')"
   ]
  },
  {
   "cell_type": "code",
   "execution_count": 3,
   "metadata": {
    "ExecuteTime": {
     "end_time": "2022-04-20T14:54:57.565748Z",
     "start_time": "2022-04-20T14:54:57.541738Z"
    },
    "execution": {
     "iopub.execute_input": "2022-12-19T12:33:30.056253Z",
     "iopub.status.busy": "2022-12-19T12:33:30.056002Z",
     "iopub.status.idle": "2022-12-19T12:33:30.077557Z",
     "shell.execute_reply": "2022-12-19T12:33:30.076799Z",
     "shell.execute_reply.started": "2022-12-19T12:33:30.056210Z"
    },
    "tags": []
   },
   "outputs": [],
   "source": [
    "from data_preparator.data_provider import DataProvider"
   ]
  },
  {
   "cell_type": "markdown",
   "metadata": {},
   "source": [
    "# Контекст и сборщик данных"
   ]
  },
  {
   "cell_type": "code",
   "execution_count": 4,
   "metadata": {
    "ExecuteTime": {
     "end_time": "2022-04-20T14:55:16.077791Z",
     "start_time": "2022-04-20T14:54:57.568021Z"
    },
    "execution": {
     "iopub.execute_input": "2022-12-19T12:33:30.102110Z",
     "iopub.status.busy": "2022-12-19T12:33:30.101573Z",
     "iopub.status.idle": "2022-12-19T12:33:59.522834Z",
     "shell.execute_reply": "2022-12-19T12:33:59.521589Z",
     "shell.execute_reply.started": "2022-12-19T12:33:30.102067Z"
    },
    "tags": []
   },
   "outputs": [],
   "source": [
    "#запуск sparkcontext\n",
    "sc = SparkContext.getOrCreate(conf=conf)\n",
    "\n",
    "#Создаём инстанс провайдера данных\n",
    "provider = DataProvider(sc)"
   ]
  },
  {
   "cell_type": "markdown",
   "metadata": {},
   "source": [
    "# Запускаем веб сервис"
   ]
  },
  {
   "cell_type": "code",
   "execution_count": 5,
   "metadata": {
    "ExecuteTime": {
     "start_time": "2022-04-20T14:54:54.981Z"
    },
    "execution": {
     "iopub.execute_input": "2022-12-19T12:33:59.543774Z",
     "iopub.status.busy": "2022-12-19T12:33:59.543534Z",
     "iopub.status.idle": "2022-12-19T12:33:59.547660Z",
     "shell.execute_reply": "2022-12-19T12:33:59.547043Z",
     "shell.execute_reply.started": "2022-12-19T12:33:59.543730Z"
    },
    "tags": []
   },
   "outputs": [],
   "source": [
    "from jinja2 import evalcontextfilter\n",
    "#from flask_autodoc import Autodoc\n",
    "from flask import jsonify, send_from_directory, request\n",
    "import re\n",
    "from markupsafe import Markup, escape\n",
    "from functools import wraps"
   ]
  },
  {
   "cell_type": "code",
   "execution_count": null,
   "metadata": {
    "tags": []
   },
   "outputs": [],
   "source": [
    "#Создание Веб приложения\n",
    "app = Flask(\"web_monitoring_back\")\n",
    "# Создание автодокера\n",
    "#auto = Autodoc()\n",
    "data_location = \"data_preparator/data/\"\n",
    "\n",
    "# region Служебные методы\n",
    "#обход бага в автодокере\n",
    "_paragraph_re = re.compile(r'(?:\\r\\n|\\r|\\n){2,}')\n",
    "@app.template_filter()\n",
    "@evalcontextfilter\n",
    "def nl2br(eval_ctx, value):\n",
    "    result = u'\\n\\n'.join(u'<p>%s</p>' % p.replace('\\n', '<br>\\n')\\\n",
    "                        for p in _paragraph_re.split(escape(value)))\n",
    "    if eval_ctx.autoescape:\n",
    "        result = Markup(result)\n",
    "    return result\n",
    "\n",
    "def updatable(method):\n",
    "    @wraps(method)\n",
    "    def wrap(*args, **kwargs):\n",
    "        if \"update\" in request.args:\n",
    "            return method(*args, update=True, **kwargs)\n",
    "        else:\n",
    "            return method(*args, **kwargs)\n",
    "    return wrap\n",
    "# endregion\n",
    "\n",
    "#region Информационные и технические методы\n",
    "@app.route(\"/api\")\n",
    "#@auto.doc(\"info\")\n",
    "def documentation2():\n",
    "    return \"api\"\n",
    "    return auto.html()\n",
    "\n",
    "@app.route(\"/api/version\")\n",
    "#@auto.doc(\"main\")\n",
    "def version2():\n",
    "    \"\"\"Возвращает версию API\"\"\"\n",
    "    return \"0.0.1\"\n",
    "\n",
    "@app.route(\"/api/clear_cache\")\n",
    "#@auto.doc(\"main\")\n",
    "def clear_cache():\n",
    "    \"\"\"Очищает кэшированные на сервере данные. При последующих обращениях будут осуществляться запросы к базе\"\"\"\n",
    "    provider.clear_cache()\n",
    "    return \"Кэш очищен\"\n",
    "\n",
    "# endregion\n",
    "\n",
    "# region risk/portfolio\n",
    "@app.route(\"/api/risk/portfolio/metrics\")\n",
    "#@auto.doc(\"api/risk\")\n",
    "@updatable\n",
    "def risk_portfolio_metrics(update=False):\n",
    "    \"\"\"Возвращает метрики риска портфеля: PD, LGD, LGDID, EL, COR\"\"\"\n",
    "    data = provider.get_risk_portfolio_metrics(update)\n",
    "    return jsonify(data)\n",
    "\n",
    "@app.route(\"/api/risk/portfolio/products\")\n",
    "#@auto.doc(\"api/risk\")\n",
    "@updatable\n",
    "def risk_portfolio_products(update=False):\n",
    "    \"\"\"Возвращает метрики риска портфеля: PD, LGD, LGDID, EL, COR в разрезе типов продуктов\"\"\"\n",
    "    data = provider.get_risk_portfolio_products(update)\n",
    "    return jsonify(data)\n",
    "# endregion\n",
    "\n",
    "# region risk/issues\n",
    "\n",
    "# endregion\n",
    "\n",
    "# region portfolio\n",
    "@app.route(\"/api/portfolio/balances\")\n",
    "#@auto.doc(\"api/portfolio\")\n",
    "@updatable\n",
    "def portfolio_balances(update=False):\n",
    "    \"\"\"Возвращает информацию об остатках по портфелю\"\"\"\n",
    "    data = provider.get_portfolio_balances(update)\n",
    "    return jsonify(data)\n",
    "\n",
    "@app.route(\"/api/portfolio/products\")\n",
    "#@auto.doc(\"api/portfolio\")\n",
    "@updatable\n",
    "def portfolio_products(update=False):\n",
    "    \"\"\"Возвращает информацию о прродуктовом составе портфеля в рублях и штуках\"\"\"\n",
    "    data = provider.get_portfolio_products(update)\n",
    "    return jsonify(data)\n",
    "\n",
    "@app.route(\"/api/portfolio/npl\")\n",
    "#@auto.doc(\"api/portfolio\")\n",
    "@updatable\n",
    "def portfolio_npl(update=False):\n",
    "    \"\"\"Возвращает информацию о npl портфеля\"\"\"\n",
    "    data = provider.get_portfolio_npl(update)\n",
    "    return jsonify(data)\n",
    "\n",
    "@app.route(\"/api/portfolio/dr\")\n",
    "#@auto.doc(\"api/portfolio\")\n",
    "@updatable\n",
    "def portfolio_dr(update=False):\n",
    "    \"\"\"Возвращает информацию о dr портфеля\"\"\"\n",
    "    data = provider.get_portfolio_dr(update)\n",
    "    return jsonify(data)\n",
    "\n",
    "# endregion\n",
    "\n",
    "\n",
    "# region DataQuality Assesment\n",
    "@app.route(\"/api/dqa/portfolio\")\n",
    "#@auto.doc(\"api/dqa\")\n",
    "@updatable\n",
    "def dqa_portfolio(update=False):\n",
    "    \"\"\"Возвращает результаты тестов качества данных портфеля\"\"\"\n",
    "    data = provider.get_dqa_portfolio(update)\n",
    "    return jsonify(data)\n",
    "\n",
    "@app.route(\"/api/dqa/issues\")\n",
    "#@auto.doc(\"api/dqa\")\n",
    "@updatable\n",
    "def dqa_issues(update=False):\n",
    "    \"\"\"Возвращает результаты тестов качества данных по выдачам\"\"\"\n",
    "    data = provider.get_dqa_issues(update)\n",
    "    return jsonify(data)\n",
    "\n",
    "@app.route(\"/api/dqa/comparisson\")\n",
    "#@auto.doc(\"api/dqa\")\n",
    "@updatable\n",
    "def dqa_comparisson(update=False):\n",
    "    \"\"\"Возвращает сравнение предыдущего и текущего состояния данных портфеля\"\"\"\n",
    "    data = provider.get_dqa_comparison(update)\n",
    "    return jsonify(data)\n",
    "\n",
    "\n",
    "# endregion\n",
    "\n",
    "@app.route(\"/\")\n",
    "#@auto.doc(\"\")\n",
    "def main():\n",
    "    return \"Главная страница бэкэнд сервиса веб мониторинга. По адресу /api есть описание доступных методов\"\n",
    "\n",
    "\n",
    "def read_config():\n",
    "    import os\n",
    "    final_config = {\"host\":\"0.0.0.0\",\n",
    "        \"port\":5001,\n",
    "        \"debug\": True                   \n",
    "        }\n",
    "    if os.path.exists(\"back_config.cfg\"):\n",
    "        import json\n",
    "        with open(\"back_config.cfg\", \"r\") as f:\n",
    "            config_txt = f.read()\n",
    "        config = json.loads(config_txt)\n",
    "        if config[\"debug\"]:\n",
    "            port = config[\"dev_port\"]\n",
    "        else:\n",
    "            port = config[\"prom_port\"]\n",
    "        final_config = {\"host\": config[\"host\"],\n",
    "                   \"port\": port,\n",
    "                    \"debug\": config[\"debug\"]\n",
    "                   }\n",
    "\n",
    "    print(\"Configuration:\", final_config)\n",
    "    return  final_config\n",
    " \n",
    "        \n",
    "\n",
    "cur_config = read_config()\n",
    "app.run(host=cur_config[\"host\"], port=cur_config[\"port\"])#, debug=True)"
   ]
  }
 ],
 "metadata": {
  "kernelspec": {
   "display_name": "Python 3 (ipykernel)",
   "language": "python",
   "name": "python3"
  },
  "language_info": {
   "codemirror_mode": {
    "name": "ipython",
    "version": 3
   },
   "file_extension": ".py",
   "mimetype": "text/x-python",
   "name": "python",
   "nbconvert_exporter": "python",
   "pygments_lexer": "ipython3",
   "version": "3.9.13"
  },
  "toc": {
   "base_numbering": 1,
   "nav_menu": {},
   "number_sections": true,
   "sideBar": true,
   "skip_h1_title": false,
   "title_cell": "Table of Contents",
   "title_sidebar": "Contents",
   "toc_cell": false,
   "toc_position": {},
   "toc_section_display": true,
   "toc_window_display": false
  }
 },
 "nbformat": 4,
 "nbformat_minor": 4
}
